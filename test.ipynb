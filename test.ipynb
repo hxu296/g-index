{
 "cells": [
  {
   "cell_type": "code",
   "execution_count": 1,
   "id": "010c180b",
   "metadata": {},
   "outputs": [],
   "source": [
    "import requests"
   ]
  },
  {
   "cell_type": "code",
   "execution_count": 98,
   "id": "42ad8553",
   "metadata": {},
   "outputs": [],
   "source": [
    "def get_stars(username):\n",
    "    response = requests.get(f'https://api.github.com/users/{username}/repos')\n",
    "    if not response.ok: return 'not found'\n",
    "    \n",
    "    repos = response.json()\n",
    "    stars = sum([repo['stargazers_count'] for repo in repos])\n",
    "    return stars\n",
    "\n",
    "def get_emails(username):\n",
    "    response = requests.get(f'https://api.github.com/users/{username}/events/public?per_page=100')\n",
    "    if not response.ok: return 'not found'\n",
    "    \n",
    "    events = response.json()\n",
    "    emails = set([event['payload']['commits'][0]['author']['email'] for event in events \n",
    "                  if event['type'] == 'PushEvent'\n",
    "                  and len(event['payload']['commits'])])\n",
    "    if emails: return emails\n",
    "    return 'not found'\n",
    "\n",
    "def get_info(username):\n",
    "    return {\n",
    "        'stars':get_stars(username),\n",
    "        'emails':get_emails(username)\n",
    "    }"
   ]
  },
  {
   "cell_type": "code",
   "execution_count": 108,
   "id": "e8fc9081",
   "metadata": {},
   "outputs": [
    {
     "data": {
      "text/plain": [
       "{'stars': 1, 'emails': {'44012383+chenyangjjj@users.noreply.github.com'}}"
      ]
     },
     "execution_count": 108,
     "metadata": {},
     "output_type": "execute_result"
    }
   ],
   "source": [
    "get_info('chenyangjjj')"
   ]
  },
  {
   "cell_type": "code",
   "execution_count": 35,
   "id": "c3acbcfe",
   "metadata": {},
   "outputs": [
    {
     "data": {
      "text/plain": [
       "{'PullRequestEvent', 'PushEvent'}"
      ]
     },
     "execution_count": 35,
     "metadata": {},
     "output_type": "execute_result"
    }
   ],
   "source": [
    "response = requests.get(f'https://api.github.com/users/YurenSUN/events/public')\n",
    "response = response.json()\n",
    "set([event['type'] for event in response])"
   ]
  },
  {
   "cell_type": "code",
   "execution_count": 43,
   "id": "6f6a488f",
   "metadata": {},
   "outputs": [
    {
     "data": {
      "text/plain": [
       "{'solislemus@wisc.edu', 'ysun299@wisc.edu'}"
      ]
     },
     "execution_count": 43,
     "metadata": {},
     "output_type": "execute_result"
    }
   ],
   "source": [
    "set([event['payload']['commits'][0]['author']['email'] for event in response if event['type'] == 'PushEvent'])"
   ]
  },
  {
   "cell_type": "code",
   "execution_count": null,
   "id": "ed2535e7",
   "metadata": {},
   "outputs": [],
   "source": []
  }
 ],
 "metadata": {
  "kernelspec": {
   "display_name": "Python 3",
   "language": "python",
   "name": "python3"
  },
  "language_info": {
   "codemirror_mode": {
    "name": "ipython",
    "version": 3
   },
   "file_extension": ".py",
   "mimetype": "text/x-python",
   "name": "python",
   "nbconvert_exporter": "python",
   "pygments_lexer": "ipython3",
   "version": "3.6.9"
  }
 },
 "nbformat": 4,
 "nbformat_minor": 5
}
